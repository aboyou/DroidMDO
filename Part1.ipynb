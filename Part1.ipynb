{
 "cells": [
  {
   "cell_type": "code",
   "execution_count": 9,
   "id": "2017ba9b-9900-49bc-bc4b-f3167b58782f",
   "metadata": {},
   "outputs": [],
   "source": [
    "import torch\n",
    "from androguard.misc import AnalyzeAPK\n",
    "from androguard.decompiler import decompiler\n",
    "from androguard.misc import AnalyzeAPK\n",
    "import networkx as nx\n",
    "import matplotlib.pyplot as plt"
   ]
  },
  {
   "cell_type": "code",
   "execution_count": 10,
   "id": "8856ea04-bdea-4fd0-9531-3fd0376959e1",
   "metadata": {},
   "outputs": [],
   "source": [
    "import logging\n",
    "import os\n",
    "import time"
   ]
  },
  {
   "cell_type": "code",
   "execution_count": 11,
   "id": "46ffc349-9be8-48e1-89c0-09001c06bd4d",
   "metadata": {},
   "outputs": [],
   "source": [
    "from utils import set_logger, makedirs"
   ]
  },
  {
   "cell_type": "code",
   "execution_count": 22,
   "id": "298920a5-4c2e-4130-969d-23fa922f582f",
   "metadata": {},
   "outputs": [],
   "source": [
    "from androguard.core.analysis import auto\n",
    "from androguard.decompiler.decompiler import DecompilerDAD"
   ]
  },
  {
   "cell_type": "markdown",
   "id": "d07c457d-1c52-4606-8bea-4ce4e6d42e67",
   "metadata": {},
   "source": [
    "# Define requirements"
   ]
  },
  {
   "cell_type": "code",
   "execution_count": 23,
   "id": "acac41ed-1d11-427b-bfad-5dad5283f33e",
   "metadata": {},
   "outputs": [
    {
     "name": "stdout",
     "output_type": "stream",
     "text": [
      "./training/Graphs/Dataset1/HOP_2/TPL_False\n"
     ]
    }
   ],
   "source": [
    "logger_ = logging.getLogger(\"MyLogger\")\n",
    "logger = set_logger(logger_)\n",
    "\n",
    "exp_base = './training/Experiment'\n",
    "graph_base = './training/Graphs'\n",
    "input_dir = 'C:\\\\Users\\\\ThisPC\\\\Desktop\\\\GNN_Env\\\\MsDroid\\\\APKs\\\\Dataset1'\n",
    "apk_base = os.path.abspath(os.path.join(input_dir, '../'))\n",
    "db_name = input_dir.split(apk_base)[-1].strip('\\\\')\n",
    "output_dir = 'C:\\\\Users\\\\ThisPC\\\\Desktop\\\\GNN_Env\\\\MsDroid\\\\Outputs'\n",
    "makedirs(output_dir)\n",
    "\n",
    "hop = 2\n",
    "tpl = False\n",
    "exp_dir = f'./training/Graphs/{db_name}/HOP_{hop}/TPL_{tpl}'\n",
    "print(exp_dir)"
   ]
  },
  {
   "cell_type": "markdown",
   "id": "363f1ab8-2b5b-406f-a67b-d9ab33b34fad",
   "metadata": {},
   "source": [
    "# Loading APKs"
   ]
  },
  {
   "cell_type": "code",
   "execution_count": 24,
   "id": "b251eb69-0b99-401e-a99e-4736fc098ea7",
   "metadata": {},
   "outputs": [],
   "source": [
    "apk_path = \"C:\\\\Users\\\\ThisPC\\\\Desktop\\\\MsDroid\\\\andapp.apk\"\n",
    "a, d, dx = AnalyzeAPK(apk_path)"
   ]
  },
  {
   "cell_type": "markdown",
   "id": "6a760b45-0c29-4be5-8845-fe4b4d3e8e0f",
   "metadata": {},
   "source": [
    "# Generating graph and subgraphs\n",
    "### Generated Behaviour Subgraphs"
   ]
  },
  {
   "cell_type": "code",
   "execution_count": 25,
   "id": "8ea9453d-65bf-40cd-8584-5e66a19fcbc3",
   "metadata": {},
   "outputs": [],
   "source": [
    "cg = dx.get_call_graph()"
   ]
  },
  {
   "cell_type": "code",
   "execution_count": 26,
   "id": "c2a5a67b-fe49-4756-9593-97e5f09e28a0",
   "metadata": {},
   "outputs": [
    {
     "name": "stdout",
     "output_type": "stream",
     "text": [
      "Landroid/support/v4/BuildConfig;-><init>()V [access_flags=public constructor] @ 0x7cc98\n"
     ]
    }
   ],
   "source": [
    "for node in cg.nodes():\n",
    "    print(node)\n",
    "    break"
   ]
  },
  {
   "cell_type": "code",
   "execution_count": 27,
   "id": "1470001f-a509-451f-b9da-70d1b1d546f9",
   "metadata": {},
   "outputs": [
    {
     "name": "stdout",
     "output_type": "stream",
     "text": [
      "It's not!\n",
      "Generate Behavior Subgraphs for 2 APKs: 0.0\n"
     ]
    }
   ],
   "source": [
    "if not os.path.exists(f'{exp_dir}/dataset.pt'):\n",
    "    print(\"It's not!\")\n",
    "    makedirs('Mappings')\n",
    "    T1 = time.process_time()\n",
    "    num_apk = 2\n",
    "    #num_apk = generate_behaviour_subgraph()\n",
    "    #time.sleep(10)\n",
    "    T2 = time.process_time()\n",
    "    print(f'Generate Behavior Subgraphs for {num_apk} APKs: {T2-T1}')\n",
    "    testonly = True if num_apk==1 else False"
   ]
  },
  {
   "cell_type": "code",
   "execution_count": 31,
   "id": "36558521-3fb8-4906-8fe9-4023fc652ffc",
   "metadata": {},
   "outputs": [
    {
     "ename": "IndentationError",
     "evalue": "expected an indented block after function definition on line 2 (102696819.py, line 4)",
     "output_type": "error",
     "traceback": [
      "\u001b[1;36m  Cell \u001b[1;32mIn[31], line 4\u001b[1;36m\u001b[0m\n\u001b[1;33m    pass\u001b[0m\n\u001b[1;37m    ^\u001b[0m\n\u001b[1;31mIndentationError\u001b[0m\u001b[1;31m:\u001b[0m expected an indented block after function definition on line 2\n"
     ]
    }
   ],
   "source": [
    "class AndroGen(auto.DirectoryAndroAnalysis):\n",
    "    def __init__(self, APKpath, CGPath, FeaturePath, deepth):\n",
    "        \n",
    "    pass"
   ]
  },
  {
   "cell_type": "code",
   "execution_count": 20,
   "id": "39c1b3c2-e37b-4fb2-84c1-b85dd2e4ee53",
   "metadata": {},
   "outputs": [],
   "source": [
    "def generate_feature(apk_base, db_name, output_dir, deepth):\n",
    "    db_path = os.path.join(apk_base, db_name)\n",
    "    print(db_path)\n",
    "    cg_path = os.path.join(output_dir, db_name, \"decompile\")\n",
    "    feature_path = os.path.join(output_dir, db_name, \"result\")\n",
    "    settings = {\n",
    "        \"my\": AndroGen(APKpath=db_path, CGPath=cg_path, FeaturePath=feature_path, deepth=deepth),\n",
    "        \"log\": auto.DefaultAndroLog,\n",
    "        \"max_fetchers\": 2,\n",
    "    }\n",
    "    aa = auto.AndroAuto(settings)\n",
    "    aa.go()\n",
    "    aa.dump()\n",
    "    myandro = aa.settings[\"my\"]\n",
    "    call_graphs = myandro.get_call_graphs()\n",
    "    return call_graphs"
   ]
  },
  {
   "cell_type": "code",
   "execution_count": 21,
   "id": "d8998bc6-b610-4478-a387-14a47bada8d0",
   "metadata": {},
   "outputs": [
    {
     "name": "stdout",
     "output_type": "stream",
     "text": [
      "C:\\Users\\ThisPC\\Desktop\\GNN_Env\\MsDroid\\APKs\\Dataset1\n"
     ]
    },
    {
     "ename": "NameError",
     "evalue": "name 'AndroGen' is not defined",
     "output_type": "error",
     "traceback": [
      "\u001b[1;31m---------------------------------------------------------------------------\u001b[0m",
      "\u001b[1;31mNameError\u001b[0m                                 Traceback (most recent call last)",
      "Cell \u001b[1;32mIn[21], line 1\u001b[0m\n\u001b[1;32m----> 1\u001b[0m \u001b[43mgenerate_feature\u001b[49m\u001b[43m(\u001b[49m\u001b[43mapk_base\u001b[49m\u001b[43m,\u001b[49m\u001b[43m \u001b[49m\u001b[43mdb_name\u001b[49m\u001b[43m,\u001b[49m\u001b[43m \u001b[49m\u001b[43moutput_dir\u001b[49m\u001b[43m,\u001b[49m\u001b[43m \u001b[49m\u001b[38;5;241;43m2\u001b[39;49m\u001b[43m)\u001b[49m\n",
      "Cell \u001b[1;32mIn[20], line 7\u001b[0m, in \u001b[0;36mgenerate_feature\u001b[1;34m(apk_base, db_name, output_dir, deepth)\u001b[0m\n\u001b[0;32m      4\u001b[0m cg_path \u001b[38;5;241m=\u001b[39m os\u001b[38;5;241m.\u001b[39mpath\u001b[38;5;241m.\u001b[39mjoin(output_dir, db_name, \u001b[38;5;124m\"\u001b[39m\u001b[38;5;124mdecompile\u001b[39m\u001b[38;5;124m\"\u001b[39m)\n\u001b[0;32m      5\u001b[0m feature_path \u001b[38;5;241m=\u001b[39m os\u001b[38;5;241m.\u001b[39mpath\u001b[38;5;241m.\u001b[39mjoin(output_dir, db_name, \u001b[38;5;124m\"\u001b[39m\u001b[38;5;124mresult\u001b[39m\u001b[38;5;124m\"\u001b[39m)\n\u001b[0;32m      6\u001b[0m settings \u001b[38;5;241m=\u001b[39m {\n\u001b[1;32m----> 7\u001b[0m     \u001b[38;5;124m\"\u001b[39m\u001b[38;5;124mmy\u001b[39m\u001b[38;5;124m\"\u001b[39m: \u001b[43mAndroGen\u001b[49m(APKpath\u001b[38;5;241m=\u001b[39mdb_path, CGPath\u001b[38;5;241m=\u001b[39mcg_path, FeaturePath\u001b[38;5;241m=\u001b[39mfeature_path, deepth\u001b[38;5;241m=\u001b[39mdeepth),\n\u001b[0;32m      8\u001b[0m     \u001b[38;5;124m\"\u001b[39m\u001b[38;5;124mlog\u001b[39m\u001b[38;5;124m\"\u001b[39m: auto\u001b[38;5;241m.\u001b[39mDefaultAndroLog,\n\u001b[0;32m      9\u001b[0m     \u001b[38;5;124m\"\u001b[39m\u001b[38;5;124mmax_fetchers\u001b[39m\u001b[38;5;124m\"\u001b[39m: \u001b[38;5;241m2\u001b[39m,\n\u001b[0;32m     10\u001b[0m }\n\u001b[0;32m     11\u001b[0m aa \u001b[38;5;241m=\u001b[39m auto\u001b[38;5;241m.\u001b[39mAndroAuto(settings)\n\u001b[0;32m     12\u001b[0m aa\u001b[38;5;241m.\u001b[39mgo()\n",
      "\u001b[1;31mNameError\u001b[0m: name 'AndroGen' is not defined"
     ]
    }
   ],
   "source": [
    "generate_feature(apk_base, db_name, output_dir, 2)"
   ]
  },
  {
   "cell_type": "code",
   "execution_count": 36,
   "id": "006e2047-800e-4433-a0f1-313751c83816",
   "metadata": {},
   "outputs": [],
   "source": [
    "def generate_behavior_subgraph(apk_base, db_name, output_dir, deepth, label, hop=2, tpl=True, training=False, api_map=False):\n",
    "    call_graphs = generate_feature(apk_base, db_name, output_dir, deepth)\n",
    "    "
   ]
  },
  {
   "cell_type": "code",
   "execution_count": null,
   "id": "9aab051a-466d-4635-91f7-59b0f105ba58",
   "metadata": {},
   "outputs": [],
   "source": []
  }
 ],
 "metadata": {
  "kernelspec": {
   "display_name": "Python 3 (ipykernel)",
   "language": "python",
   "name": "python3"
  },
  "language_info": {
   "codemirror_mode": {
    "name": "ipython",
    "version": 3
   },
   "file_extension": ".py",
   "mimetype": "text/x-python",
   "name": "python",
   "nbconvert_exporter": "python",
   "pygments_lexer": "ipython3",
   "version": "3.10.14"
  }
 },
 "nbformat": 4,
 "nbformat_minor": 5
}
