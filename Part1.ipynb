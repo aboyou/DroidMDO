{
 "cells": [
  {
   "cell_type": "code",
   "execution_count": 1,
   "id": "2017ba9b-9900-49bc-bc4b-f3167b58782f",
   "metadata": {},
   "outputs": [],
   "source": [
    "import torch\n",
    "from androguard.misc import AnalyzeAPK\n",
    "from androguard.decompiler import decompiler\n",
    "from androguard.misc import AnalyzeAPK\n",
    "import networkx as nx\n",
    "import matplotlib.pyplot as plt"
   ]
  },
  {
   "cell_type": "code",
   "execution_count": 2,
   "id": "8856ea04-bdea-4fd0-9531-3fd0376959e1",
   "metadata": {},
   "outputs": [],
   "source": [
    "import logging\n",
    "import os\n",
    "import time\n",
    "import re"
   ]
  },
  {
   "cell_type": "code",
   "execution_count": 3,
   "id": "46ffc349-9be8-48e1-89c0-09001c06bd4d",
   "metadata": {},
   "outputs": [],
   "source": [
    "from utils import set_logger, makedirs\n",
    "import utils"
   ]
  },
  {
   "cell_type": "code",
   "execution_count": 4,
   "id": "298920a5-4c2e-4130-969d-23fa922f582f",
   "metadata": {},
   "outputs": [],
   "source": [
    "from androguard.core.analysis import auto\n",
    "from androguard.decompiler.decompiler import DecompilerDAD"
   ]
  },
  {
   "cell_type": "markdown",
   "id": "d07c457d-1c52-4606-8bea-4ce4e6d42e67",
   "metadata": {},
   "source": [
    "# Define requirements"
   ]
  },
  {
   "cell_type": "code",
   "execution_count": 5,
   "id": "acac41ed-1d11-427b-bfad-5dad5283f33e",
   "metadata": {},
   "outputs": [
    {
     "name": "stdout",
     "output_type": "stream",
     "text": [
      "./training/Graphs/Dataset1_Benign/HOP_2/TPL_False\n"
     ]
    }
   ],
   "source": [
    "logger_ = logging.getLogger(\"MyLogger\")\n",
    "logger = set_logger(logger_)\n",
    "\n",
    "exp_base = './training/Experiment'\n",
    "graph_base = './training/Graphs'\n",
    "input_dir = 'C:\\\\Users\\\\ThisPC\\\\Desktop\\\\GNN_Env\\\\MsDroid\\\\APKs\\\\Dataset1_Benign'\n",
    "apk_base = os.path.abspath(os.path.join(input_dir, '../'))\n",
    "db_name = input_dir.split(apk_base)[-1].strip('\\\\')\n",
    "output_dir = 'C:\\\\Users\\\\ThisPC\\\\Desktop\\\\GNN_Env\\\\MsDroid\\\\Outputs'\n",
    "makedirs(output_dir)\n",
    "\n",
    "hop = 2\n",
    "tpl = False\n",
    "exp_dir = f'./training/Graphs/{db_name}/HOP_{hop}/TPL_{tpl}'\n",
    "print(exp_dir)"
   ]
  },
  {
   "cell_type": "markdown",
   "id": "363f1ab8-2b5b-406f-a67b-d9ab33b34fad",
   "metadata": {},
   "source": [
    "# Loading APKs"
   ]
  },
  {
   "cell_type": "code",
   "execution_count": 6,
   "id": "b251eb69-0b99-401e-a99e-4736fc098ea7",
   "metadata": {},
   "outputs": [],
   "source": [
    "apk_path = \"C:\\\\Users\\\\ThisPC\\\\Desktop\\\\MsDroid\\\\andapp.apk\"\n",
    "a, d, dx = AnalyzeAPK(apk_path)"
   ]
  },
  {
   "cell_type": "markdown",
   "id": "6a760b45-0c29-4be5-8845-fe4b4d3e8e0f",
   "metadata": {},
   "source": [
    "# Generating graph and subgraphs\n",
    "### Generated Behaviour Subgraphs"
   ]
  },
  {
   "cell_type": "code",
   "execution_count": 7,
   "id": "8ea9453d-65bf-40cd-8584-5e66a19fcbc3",
   "metadata": {},
   "outputs": [],
   "source": [
    "cg = dx.get_call_graph()"
   ]
  },
  {
   "cell_type": "code",
   "execution_count": 8,
   "id": "c2a5a67b-fe49-4756-9593-97e5f09e28a0",
   "metadata": {},
   "outputs": [
    {
     "name": "stdout",
     "output_type": "stream",
     "text": [
      "Landroid/support/v4/BuildConfig;-><init>()V [access_flags=public constructor] @ 0x7cc98\n"
     ]
    }
   ],
   "source": [
    "for node in cg.nodes():\n",
    "    print(node)\n",
    "    break"
   ]
  },
  {
   "cell_type": "code",
   "execution_count": 9,
   "id": "1470001f-a509-451f-b9da-70d1b1d546f9",
   "metadata": {},
   "outputs": [
    {
     "name": "stdout",
     "output_type": "stream",
     "text": [
      "It's not!\n",
      "Generate Behavior Subgraphs for 2 APKs: 0.0\n"
     ]
    }
   ],
   "source": [
    "if not os.path.exists(f'{exp_dir}/dataset.pt'):\n",
    "    print(\"It's not!\")\n",
    "    makedirs('Mappings')\n",
    "    T1 = time.process_time()\n",
    "    num_apk = 2\n",
    "    #num_apk = generate_behaviour_subgraph()\n",
    "    #time.sleep(10)\n",
    "    T2 = time.process_time()\n",
    "    print(f'Generate Behavior Subgraphs for {num_apk} APKs: {T2-T1}')\n",
    "    testonly = True if num_apk==1 else False"
   ]
  },
  {
   "cell_type": "code",
   "execution_count": 10,
   "id": "b791bf41-6627-4916-a53a-3aedf900c5eb",
   "metadata": {},
   "outputs": [],
   "source": [
    "# Create a new logger\n",
    "logger_AndroGen = logging.getLogger(\"AndroGen\")\n",
    "\n",
    "# Set the logging level (DEBUG, INFO, WARNING, ERROR)\n",
    "logger_AndroGen.setLevel(logging.DEBUG)\n",
    "\n",
    "# Create handlers (console and file handlers as examples)\n",
    "# Example: Console handler\n",
    "console_handler = logging.StreamHandler()\n",
    "console_handler.setLevel(logging.DEBUG)\n",
    "\n",
    "# Example: File handler to log errors to a file\n",
    "file_handler = logging.FileHandler('AndroGen.log')\n",
    "file_handler.setLevel(logging.ERROR)\n",
    "\n",
    "# Create a formatter for the log messages\n",
    "formatter = logging.Formatter('%(asctime)s - %(name)s - %(levelname)s - %(message)s')\n",
    "console_handler.setFormatter(formatter)\n",
    "file_handler.setFormatter(formatter)\n",
    "\n",
    "# Add handlers to the logger\n",
    "logger_AndroGen.addHandler(console_handler)\n",
    "logger_AndroGen.addHandler(file_handler)\n",
    "\n",
    "# Assign the logger to _settings\n",
    "class logger_Settings:\n",
    "    def __init__(self):\n",
    "        self.logger = logger_AndroGen\n",
    "\n",
    "# Create settings instance\n",
    "_settings_log = logger_Settings()"
   ]
  },
  {
   "cell_type": "code",
   "execution_count": 11,
   "id": "9d524e0e-9109-460d-ae15-fc8c07ac2f79",
   "metadata": {},
   "outputs": [
    {
     "name": "stderr",
     "output_type": "stream",
     "text": [
      "2024-09-27 03:48:06,554 - AndroGen - ERROR - This is an error message3\n"
     ]
    }
   ],
   "source": [
    "# Example of using _settings.logger\n",
    "_settings_log.logger.error(\"This is an error message3\")"
   ]
  },
  {
   "cell_type": "code",
   "execution_count": 15,
   "id": "36558521-3fb8-4906-8fe9-4023fc652ffc",
   "metadata": {},
   "outputs": [],
   "source": [
    "class AndroGen(auto.DirectoryAndroAnalysis):\n",
    "    def __init__(self, APKpath, CGPath, FeaturePath, deepth):\n",
    "        self.replacemap = {'Landroid/os/AsyncTask;':['onPreExecute', 'doInBackground'],\n",
    "                          'Landroid/os/Handler;': ['handleMessage'], 'Ljava/lang/Runnable;': ['run']}\n",
    "        super(AndroGen, self).__init__(APKpath)\n",
    "        self.APKpath = APKpath\n",
    "        self.has_crashed = False          # It shows any failure in analysis process\n",
    "        self.CGPath = CGPath\n",
    "        self.FeaturePath = FeaturePath\n",
    "        self.smali_opcode = self.get_smaliOpcode(\"smaliOpcode.txt\")   # A list of Smali opcodes that the analysis will track.\n",
    "        self.permission = []\n",
    "        with open(\"head.txt\") as f:\n",
    "            self.permission = eval(f.read())\n",
    "        self.cppermission = self.get_permission()   # CP is abstract of Content Provider\n",
    "        self.call_graphs = []\n",
    "        self.count = 0\n",
    "        self.deepth = deepth\n",
    "\n",
    "    def get_smaliOpcode(self, FileName):\n",
    "        opcode = list()\n",
    "        with open(FileName, 'r') as fileObject:\n",
    "            lines = fileObject.readlines()\n",
    "        for line in lines:\n",
    "            opcode.append(line.rstrip('\\n'))\n",
    "        return opcode\n",
    "\n",
    "    def get_permission(self):\n",
    "        filename = \"all_cp.txt\"\n",
    "        permission = {}\n",
    "        with open(filename) as f:\n",
    "            content = f.readline().strip('\\n')\n",
    "            while content:\n",
    "                cons = content.split(' ')\n",
    "                if cons[0] not in permission:\n",
    "                    permission[cons[0]] = set()\n",
    "                permission[cons[0]].add((cons[1], 'Permission:' + cons[2]))\n",
    "                content = f.readline().strip('\\n')\n",
    "        return permission\n",
    "\n",
    "    def analysis_app(self, log, apkobj, dexobj, analysisobj):\n",
    "        dexobj.set_decompiler(DecompilerDAD(dexobj, analysisobj))\n",
    "        apk_filename = log.filename\n",
    "        CGPath = apk_filename.replace(self.APKpath, self.CGPath)[:-4]\n",
    "        CGfilename = os.path.join(CGPath, \"call.gml\")\n",
    "        if not os.path.exists(CGPath):\n",
    "            try:\n",
    "                os.makedirs(CGPath)\n",
    "            except Exception:\n",
    "                pass\n",
    "        opcodeFilename = apk_filename.replace(self.APKpath, self.FeaturePath + \"/opcode\").replace(\".apk\", \".csv\")\n",
    "        opcodePath = opcodeFilename.replace(\".apk\", \".csv\")\n",
    "        if not os.path.exists(opcodePath):\n",
    "            try:\n",
    "                makedirs(opcodePath)\n",
    "            except Exception:\n",
    "                pass\n",
    "        permissionFilename = apk_filename.replace(self.APKpath, self.FeaturePath + \"/permission\").replace(\".apk\", \".csv\")\n",
    "        permissionPath = permissionFilename[:permissionFilename.rfind('/')]\n",
    "        if not os.path.exists(permissionPath):\n",
    "            try:\n",
    "                os.makedirs(opcodePath)\n",
    "            except Exception:\n",
    "                pass\n",
    "        tplFilename = apk_filename.replace(self.APKpath, self.FeaturePath + \"/tpl\").replace(\".apk\", \".csv\")\n",
    "        tplPath = tplFilename[:tplFilename.rfine('/')]\n",
    "        if not os.path.exists(tplPath):\n",
    "            try:\n",
    "                os.makedirs(tplPath)\n",
    "            except Exception:\n",
    "                pass\n",
    "        if not os.path.exists(CGfilename):\n",
    "            G = analysisobj.get_call_graph()\n",
    "            nx.write_gml(G, CGfilename, stringizer=str)\n",
    "        self.call_graphs.append(CGfilename)\n",
    "        G = nx.read_gml(CGfilename, label='id')\n",
    "        if os.path.exists(tplFilename):\n",
    "            return\n",
    "        opcodeFilename = utils.create_csv(self.smali_opcode, opcodeFilename)\n",
    "        method2nodeMap = self.getMethod2NodeMap(G)\n",
    "        if method2nodeMap == {}:\n",
    "            _settings_log.logger.error(\"%s has call graph error\"%log.filename)\n",
    "            print(\"%s has call graph error\"%log.filename)\n",
    "            return \n",
    "        class_functions = defaultdict(list)\n",
    "        super_dic = {}\n",
    "        implement_dic = {}\n",
    "\n",
    "        for classes in analysis.get_classes():\n",
    "            class_name = str(classes.get_class().get_name())\n",
    "            if (classes.extends != \"Ljava/lang/Object;\"):\n",
    "                super_dic[class_name] = str(classes.extends)                # Store extends of each class\n",
    "                if str(classes.extends) in self.replacemap:\n",
    "                    implement_dic[class_name] = str(classes.extends)\n",
    "            if classes.implements:                                          # Store interfaces of classes\n",
    "                for imp in classes.implements:\n",
    "                    if str(imp) in self.replacemap:\n",
    "                        implement_dic[class_name] = str(imp)\n",
    "            for method in classes.get_methods():\n",
    "                if method.is_external():\n",
    "                    continue\n",
    "                m = method.get_method()\n",
    "                class_functions[class_name].append(str(m.full_name))        # Store methods of a class as functions\n",
    "                c = defaultdict(int)\n",
    "                flag = False\n",
    "                for ins in m.get_instructions():  # count\n",
    "                    flag = True  # exist instructions\n",
    "                    c[ins.get_name()] += 1\n",
    "                opcode = {}\n",
    "                for p in self.smali_opcode:\n",
    "                    opcode[p] = 0\n",
    "                for op in c:\n",
    "                    if op in self.smali_opcode:\n",
    "                        opcode[op] += c[op]\n",
    "                if flag:\n",
    "                    try:\n",
    "                        utils.write_csv(opcode, opcodeFile, method2nodeMap[str(m.full_name)][0])\n",
    "                    except Exception:\n",
    "                        print(\"apk: %s, method: %s not exists\"%(log.filename, str(m.full_name)))\n",
    "        opcodeFile.close()\n",
    "        \n",
    "        pass\n",
    "\n",
    "\n",
    "    \n",
    "    def getMethod2NodeMap(self, G):\n",
    "        method2nodemap = {}\n",
    "        try:\n",
    "            node_attr = utils.df_from_G(G)\n",
    "            labels = node_attr.label\n",
    "            ids = node_attr.id\n",
    "        except Exception:\n",
    "            return method2nodemap\n",
    "        i = 0\n",
    "        pattern = re.compile(r'&#(.+?);')\n",
    "        while i < len(ids):\n",
    "            nodeid = ids.get(i)\n",
    "            label = labels.get(i)\n",
    "            function = utils.node2function(label)\n",
    "            rt = pattern.findall(function)\n",
    "            for r in rt:\n",
    "                function.replace(\"&#%s; \"%r, chr(int(r)))\n",
    "            method = function.replace(\";->\", \"; \").replace(\"(\", \" (\")\n",
    "            method2nodeMap.update({method: (nodeid, function)})\n",
    "            i = i + 1\n",
    "        return method2nodeMap\n",
    "        \n",
    "            "
   ]
  },
  {
   "cell_type": "code",
   "execution_count": null,
   "id": "5c3ef6e4-7500-4f72-8a8e-f16ebd4ba095",
   "metadata": {},
   "outputs": [],
   "source": []
  },
  {
   "cell_type": "code",
   "execution_count": 18,
   "id": "bd92045c-97b4-4340-a043-b9f0d5ba1558",
   "metadata": {},
   "outputs": [
    {
     "name": "stdout",
     "output_type": "stream",
     "text": [
      "Landroid/support/v4/BuildConfig;-><init>()V [access_flags=public constructor] @ 0x7cc98\n",
      "[access_flags=public constructor] @ 0x7cc9\n"
     ]
    }
   ],
   "source": [
    "pd_cg = utils.df_from_G(cg)\n",
    "ids = pd_cg.id\n",
    "nodeid = ids.get(5)\n",
    "pointer = pd_cg.label\n",
    "print(pointer.loc[0])\n",
    "print(utils.node2function(str(pointer.loc[0])))"
   ]
  },
  {
   "cell_type": "code",
   "execution_count": null,
   "id": "21b0878d-b2a5-4719-a9f7-b9ec0ad85ec7",
   "metadata": {},
   "outputs": [],
   "source": [
    "t = AndroGen(\"APKpath\", \"CGPath\", \"FeaturePath\", 1)"
   ]
  },
  {
   "cell_type": "code",
   "execution_count": 12,
   "id": "39c1b3c2-e37b-4fb2-84c1-b85dd2e4ee53",
   "metadata": {},
   "outputs": [],
   "source": [
    "def generate_feature(apk_base, db_name, output_dir, deepth):\n",
    "    db_path = os.path.join(apk_base, db_name)\n",
    "    print(db_path)\n",
    "    cg_path = os.path.join(output_dir, db_name, \"decompile\")\n",
    "    feature_path = os.path.join(output_dir, db_name, \"result\")\n",
    "    settings = {\n",
    "        \"my\": AndroGen(APKpath=db_path, CGPath=cg_path, FeaturePath=feature_path, deepth=deepth),\n",
    "        \"log\": auto.DefaultAndroLog,\n",
    "        \"max_fetchers\": 2,\n",
    "    }\n",
    "    aa = auto.AndroAuto(settings)\n",
    "    aa.go()\n",
    "    aa.dump()\n",
    "    myandro = aa.settings[\"my\"]\n",
    "    call_graphs = myandro.get_call_graphs()\n",
    "    return call_graphs"
   ]
  },
  {
   "cell_type": "code",
   "execution_count": 13,
   "id": "006e2047-800e-4433-a0f1-313751c83816",
   "metadata": {},
   "outputs": [],
   "source": [
    "def generate_behavior_subgraph(apk_base, db_name, output_dir, deepth, label, hop=2, tpl=True, training=False, api_map=False):\n",
    "    call_graphs = generate_feature(apk_base, db_name, output_dir, deepth)\n",
    "    "
   ]
  },
  {
   "cell_type": "code",
   "execution_count": null,
   "id": "c0b11664-96cd-4fca-8178-2c3b9f73705e",
   "metadata": {},
   "outputs": [],
   "source": []
  }
 ],
 "metadata": {
  "kernelspec": {
   "display_name": "Python 3 (ipykernel)",
   "language": "python",
   "name": "python3"
  },
  "language_info": {
   "codemirror_mode": {
    "name": "ipython",
    "version": 3
   },
   "file_extension": ".py",
   "mimetype": "text/x-python",
   "name": "python",
   "nbconvert_exporter": "python",
   "pygments_lexer": "ipython3",
   "version": "3.10.14"
  }
 },
 "nbformat": 4,
 "nbformat_minor": 5
}
